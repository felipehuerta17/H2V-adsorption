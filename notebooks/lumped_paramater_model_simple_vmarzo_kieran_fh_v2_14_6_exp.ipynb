{
 "cells": [
  {
   "cell_type": "markdown",
   "metadata": {},
   "source": [
    "#### Implementación Lumped Parameter Model for adsorption, Xiao et al. (2013)\n",
    "\n",
    "Contribuidores:\n",
    "* Kieran Conradie\n",
    "* Carlos Ullrich\n",
    "* Felipe Huerta"
   ]
  },
  {
   "cell_type": "code",
   "execution_count": 1,
   "metadata": {},
   "outputs": [],
   "source": [
    "# Integración numérica de sistemas de ecuaciones diferenciales ordinarias\n",
    "from scipy.integrate import solve_ivp\n",
    "\n",
    "# Minimización de funciones objetivos para ajuste de parámetros\n",
    "from scipy.optimize import least_squares\n",
    "\n",
    "# Ecuaciones no lineales\n",
    "from scipy.optimize import fsolve\n",
    "\n",
    "# Computación científica\n",
    "import numpy as np\n",
    "\n",
    "# Gráficos\n",
    "import matplotlib.pyplot as plt\n",
    "# Copiar variables creando nuevos objetos\n",
    "import copy\n",
    "\n",
    "# Procesamiento de datos\n",
    "# Importar pandas para cargar datos desde archivos .csv y otros\n",
    "import pandas as pd\n",
    "# CSV puro y duro\n",
    "import csv"
   ]
  },
  {
   "cell_type": "markdown",
   "metadata": {},
   "source": [
    "#### Definición sistema de ecuaciones diferenciales"
   ]
  },
  {
   "cell_type": "code",
   "execution_count": 2,
   "metadata": {},
   "outputs": [],
   "source": [
    "# Función que es entregada a solve_ivp para resolver el modelo, se le entregara un BOOLEANO\n",
    "# Para determinar si es carga o descarga\n",
    "\n",
    "# Ec. no lineal para encontrar el valor de la presión para un valor\n",
    "# de masa total conocida\n",
    "\n",
    "def p_eqn(p, n_0, R, T, alpha, beta, b, p_0, M_H2, m_s, volumen, epsilon, m_t):\n",
    "    ''' \n",
    "        Función objetivo que representa la masa total en función de la presión\n",
    "        del sistema. Esto lo utilizamos ya que calculamos la presión de forma implícita\n",
    "        en función de otras variables.\n",
    "    '''\n",
    "    # Calcular moles de hidrógeno adsorbido f(T,p)\n",
    "    n_a = n_0 * np.exp(-((R*T)/(alpha+beta*T))**b * np.log(p_0/p)**b)\n",
    "    # Actualizar masa adsorbida\n",
    "    m_a = n_a*M_H2*m_s\n",
    "    # Actualizar masa gas\n",
    "    n_g = p*(volumen*epsilon)/(R*T)\n",
    "    m_g = n_g * M_H2\n",
    "    return m_t - (m_a + m_g)\n",
    "\n",
    "\n",
    "def adsorcion_hidrogeno(t, y, c_s, c_p, c_w, m_s, m_w, M_H2, R, alpha, beta, epsilon, volumen, area, p_0, n_0, b, m_dot, h, h_f, T_f, charge, DEBUG=False):\n",
    "    # if charge:\n",
    "        # print(f'Simulando proceso de carga\\n--------------------------')\n",
    "    \n",
    "    # Desempacar variables:\n",
    "    m_t = y[0]\n",
    "    T = y[1]\n",
    "    \n",
    "    # Calcular Variables dependientes de las variables independientes\n",
    "    p_old = 0.033*1e6 # Presión inicial (Pa) para test No. 13\n",
    "\n",
    "    p = fsolve(p_eqn, p_old, args = (n_0, R, T, alpha, beta, b, p_0, M_H2, m_s, volumen, epsilon, m_t))\n",
    "\n",
    "    # Calcular masa adsorbida\n",
    "    n_a = n_0 * np.exp(-((R*T)/(alpha+beta*T))**b * np.log(p_0/p)**b)\n",
    "    m_a = n_a*M_H2*m_s\n",
    "\n",
    "    # Actualizar numero de moles en la fase gas\n",
    "    m_g = m_t - m_a\n",
    "\n",
    "    # Calor esostérico\n",
    "    dH = alpha * (np.log(p_0/p))**(1/b)\n",
    "    \n",
    "    # print(f'm_a: {m_a}\\nm_g: {m_g}')\n",
    "\n",
    "    # ECUACIONES DIFERENCIALES\n",
    "    # Ecuación diferencial de masa total\n",
    "    if charge:\n",
    "        dm_dt = m_dot\n",
    "    elif not charge:\n",
    "        dm_dt = -m_dot\n",
    "    else:\n",
    "        dm_dt = 0\n",
    "        \n",
    "    # Ecuación diferencial de temperatura\n",
    "    if charge:\n",
    "        dT_dt = (m_dot*h + dm_dt*(dH/M_H2) - h_f*area*(T-T_f))/(m_s*c_s + m_a*c_p + m_g*c_p + m_w*c_w)\n",
    "    elif not charge:\n",
    "        dT_dt = (-m_dot*h + dm_dt*(dH/M_H2) - h_f*area*(T-T_f))/(m_s*c_s + m_a*c_p + m_g*c_p + m_w*c_w)\n",
    "    \n",
    "    # DEBUG prints\n",
    "    if DEBUG is True:\n",
    "        print(\"\\ndT_dt debugging \\n\")\n",
    "        print(\"dT_dt = %.3e K/s\" % dT_dt)\n",
    "        print(\"m_dot = %.3e kg/s\" % m_dot)\n",
    "        print(\"h = %.3e Jm^2-\" % h)\n",
    "        print(\"dH = %.3e J/kg \" % dH)\n",
    "        print(\"M_H2 = %.3e kg/mol\" % h)\n",
    "        print(\"h_f = %.3e Wm^-2K^-1\" % h_f)\n",
    "        print(\"area = %.3e m^2\" % area)\n",
    "        print(\"T = %.3e K\" % T)\n",
    "        print(\"T_f = %.3e K\" % T_f)        \n",
    "        print(\"dm_dt = %.3e kg/s\" % dm_dt)\n",
    "        # Calor isoestérico\n",
    "        print(\"\\nIsosteric heat debugging\\n\")\n",
    "        print(\"alpha = %.3e\" % alpha)\n",
    "        print(\"b= %.3e\" % b)\n",
    "        print(\"p_0 = %.3e Pa\" % p_0)\n",
    "        print(\"p = %.3e Pa\" % p)\n",
    "\n",
    "    # Empacar el vector del lado derecho en un vector 2x1\n",
    "    \n",
    "    print(\"dmdt\", dm_dt)\n",
    "    print(\"dTdt\", dT_dt)\n",
    "\n",
    "    dy = np.array([dm_dt, dT_dt[0]])\n",
    "    \n",
    "    return dy"
   ]
  },
  {
   "cell_type": "markdown",
   "metadata": {},
   "source": [
    "#### Parametros, condiciones y solve_ivp"
   ]
  },
  {
   "cell_type": "markdown",
   "metadata": {},
   "source": [
    "Parámetros asociados a la mezcla"
   ]
  },
  {
   "cell_type": "code",
   "execution_count": 3,
   "metadata": {},
   "outputs": [],
   "source": [
    "# Propiedades termofísicas\n",
    "\n",
    "# Calores especificos\n",
    "\n",
    "c_p = 10167 # Calor especifico del hidrogeno (J kg-1 K-1)\n",
    "\n",
    "\n",
    "# K: Originalmente estaba dado en J, por eso el /1000\n",
    "# F: Sugerencia: ocupar unidades SI lo más posible\n",
    "\n",
    "# Constantes \n",
    "R = 8.314 # J mol-1 K-1\n",
    "alpha = 3080 # Factor entalpico (J mol-1)\n",
    "beta = 18.9 # Factor entropico (J mol-1 K-1)\n",
    "epsilon_b = 0.49 \n",
    "b = 2"
   ]
  },
  {
   "cell_type": "markdown",
   "metadata": {},
   "source": [
    "Equilibrio de adsorción"
   ]
  },
  {
   "cell_type": "code",
   "execution_count": 4,
   "metadata": {},
   "outputs": [],
   "source": [
    "# Otros\n",
    "p_0 = 1470 * 1e6 # Presion de saturacion (Pa)\n",
    "n_0 = 71.6 # Cantidad limite de adsorcion (mol kg-1)"
   ]
  },
  {
   "cell_type": "markdown",
   "metadata": {},
   "source": [
    "Parámetros asociados al tanque"
   ]
  },
  {
   "cell_type": "code",
   "execution_count": 5,
   "metadata": {
    "scrolled": true
   },
   "outputs": [],
   "source": [
    "# PARAMETROS\n",
    "\n",
    "# Dimensiones estanque\n",
    "V = 0.00015 # Volumen de estanque (m^3)    # No se si es volumen interno\n",
    "l = 0.133 # m, alto del tanque\n",
    "A_e = 2*np.pi*l # Área superficial estanque m^2  # considere manto cilindro superficial (no contamos \"tapas\")\n",
    "\n",
    "# Masas\n",
    "m_s = 0.671 # masa carbón activado (kg)    # datos del carbono, considerar que está lleno a un 30%.\n",
    "m_w = 3.714 # Masa paredes de acero (kg)   # datos del carbono\n",
    "M_H2 = 2.0159E-3 # Masa molar del hidrogeno (kg mol-1)\n",
    "\n",
    "c_s = 825 # Calor especifico del carbón activado (J kg-1 K-1)     # datos del carbono\n",
    "c_w = 500 # Calor especifico paredes de acero (J kg-1 K-1)    # este es a 20°C segun internet\n",
    "\n",
    "\n",
    "# CONDICIONES INICIALES\n",
    "p_ci = np.array([1.01235, 1.01235, 1.01235])*1e6 #Pa\n",
    "T_ci = np.array([283, 283, 273]) #K \n",
    "\n",
    "# Temperatura del refrigerante\n",
    "T_cf = np.array([282.5, 284.5, 282.2]) #K\n",
    "\n",
    "# Coeficiente de transferencia de calor\n",
    "# Calculado en Jupyter Notebook separado\n",
    "h_cf = np.array([3.6, 3.6, 3.6]) # W m^-2 K^-1\n",
    "\n",
    "# Flujos másicos referenciales\n",
    "# Flujos de carga típicos 50 cm^3 / min\n",
    "m_cdot = np.array([2.353e-09, 2.353e-09, 2.353e-09])       # kg s-1   # No hemos hecho experimento pero usado lo de profe fhuerta\n",
    "\n",
    "# Lista de tiempos: Inicial, fin carga, inicio descarga\n",
    "t_c0 =  np.array([0, 0, 0])           # s\n",
    "t_cf = np.array([1042, 422, 175])          # s   # falta realizar exp\n",
    "t_cd = np.array([3189, 2622, 2382])          # s   # falta realizar exp\n",
    "\n",
    "# Entalpías de entrada y salida\n",
    "h_in = np.array([3986.8, 4001.1, 3987.2])  # J/kg  # no alcance a buscar tablas\n",
    "h_out = np.array([3718.8, 3752.6, 3719.3]) # J/kg  # no alcance a buscar tablas"
   ]
  },
  {
   "cell_type": "code",
   "execution_count": 6,
   "metadata": {},
   "outputs": [
    {
     "name": "stdout",
     "output_type": "stream",
     "text": [
      "rho 2.824e+00 kg/(m^3)\n"
     ]
    }
   ],
   "source": [
    "# Presión de la alimentación\n",
    "p_a = 35 * 1e5\n",
    "R = 8.314 \n",
    "T_alimentación = 298.15 # 25°C\n",
    "\n",
    "# pv = nRT\n",
    "# p = (n/v) * R * T\n",
    "# rho = p/RT # mol/m^3\n",
    "# rho = p/RT * 0.002 kg / mol\n",
    "\n",
    "rho = p_a/(R*T_alimentación) * 0.002\n",
    "print(\"rho %.3e kg/(m^3)\" % rho)"
   ]
  },
  {
   "cell_type": "code",
   "execution_count": 7,
   "metadata": {},
   "outputs": [],
   "source": [
    "rho_cgs = rho * 1e3 /(1e6)"
   ]
  },
  {
   "cell_type": "markdown",
   "metadata": {},
   "source": [
    "$\\rho = 2.82 mg/cm$^3$"
   ]
  },
  {
   "cell_type": "code",
   "execution_count": 8,
   "metadata": {},
   "outputs": [
    {
     "name": "stdout",
     "output_type": "stream",
     "text": [
      "mdot_final = 2.353e-09 kg/s\n"
     ]
    }
   ],
   "source": [
    "F = 50 / 60 #cm^3 / s\n",
    "\n",
    "# flujo másico en mg/s\n",
    "mdot_cgs = rho_cgs * F\n",
    "\n",
    "mdot_final = mdot_cgs/1e6\n",
    "\n",
    "print(\"mdot_final = %.3e kg/s\" % mdot_final )"
   ]
  },
  {
   "cell_type": "markdown",
   "metadata": {},
   "source": [
    "#### Implementación del modelo"
   ]
  },
  {
   "cell_type": "code",
   "execution_count": 9,
   "metadata": {},
   "outputs": [],
   "source": [
    "def resolver_modelo(index):\n",
    "    # Seleccionar los valores del test deseado\n",
    "    p_i = p_ci[index]\n",
    "    T_i = T_ci[index]\n",
    "    T_f = T_cf[index]\n",
    "    h_f = h_cf[index]\n",
    "    m_dot = m_cdot[index]\n",
    "    t_0 = t_c0[index]\n",
    "    t_f = t_cf[index]\n",
    "    t_d = t_cd[index]\n",
    "    h_i = h_in[index]\n",
    "    h_o = h_out[index]\n",
    "    \n",
    "\n",
    "    n_a0 = n_0 * np.exp(- (R*T_i/(alpha + beta*T_i))**b * np.log(p_0/p_i)**b )\n",
    "\n",
    "    n_gi = p_i*(V*epsilon_b)/(R*T_i)\n",
    "    m_gi = n_gi * M_H2\n",
    "\n",
    "    # PARAMETROS EN CARGA/DESCARGA\n",
    "    # Carga o descarga?\n",
    "    charge = True\n",
    "\n",
    "    t_range = np.linspace(t_0, t_f, 100000)\n",
    "\n",
    "    # Tupla de parametros que se deben pasar a solve_ivp\n",
    "    DEBUG = False\n",
    "    args = (c_s, c_p, c_w, m_s, m_w, M_H2, R, alpha, beta, epsilon_b, V, A_e, p_0, n_0, b, m_dot, h_i, h_f, T_f, charge, DEBUG)\n",
    "\n",
    "    # En ingeniería química, sobre todo cuando hay reacciones o cambio de fases, se generan sistemas ultraestables\n",
    "    # (ultrastiff) no conviene utilizar métodos explícitos. \n",
    "    sol = solve_ivp(adsorcion_hidrogeno, (t_0, t_f), [m_ti, T_i], args=args, t_eval= t_range, method = 'BDF')\n",
    "    \n",
    "    # Desempacar la sol.clear\n",
    "    m_t = sol.y[0]\n",
    "    T = sol.y[1]\n",
    "    t = sol.t\n",
    "    \n",
    "    return t, m_t, T"
   ]
  },
  {
   "cell_type": "code",
   "execution_count": 10,
   "metadata": {
    "scrolled": false
   },
   "outputs": [
    {
     "ename": "NameError",
     "evalue": "name 'm_ti' is not defined",
     "output_type": "error",
     "traceback": [
      "\u001b[1;31m---------------------------------------------------------------------------\u001b[0m",
      "\u001b[1;31mNameError\u001b[0m                                 Traceback (most recent call last)",
      "\u001b[1;32m~\\AppData\\Local\\Temp\\ipykernel_36200\\1246973346.py\u001b[0m in \u001b[0;36m<module>\u001b[1;34m\u001b[0m\n\u001b[1;32m----> 1\u001b[1;33m \u001b[0mt_result\u001b[0m\u001b[1;33m,\u001b[0m \u001b[0mm_t_result\u001b[0m\u001b[1;33m,\u001b[0m \u001b[0mT_result\u001b[0m \u001b[1;33m=\u001b[0m \u001b[0mresolver_modelo\u001b[0m\u001b[1;33m(\u001b[0m\u001b[1;36m0\u001b[0m\u001b[1;33m)\u001b[0m\u001b[1;33m\u001b[0m\u001b[1;33m\u001b[0m\u001b[0m\n\u001b[0m",
      "\u001b[1;32m~\\AppData\\Local\\Temp\\ipykernel_36200\\825796134.py\u001b[0m in \u001b[0;36mresolver_modelo\u001b[1;34m(index)\u001b[0m\n\u001b[0;32m     30\u001b[0m     \u001b[1;31m# En ingeniería química, sobre todo cuando hay reacciones o cambio de fases, se generan sistemas ultraestables\u001b[0m\u001b[1;33m\u001b[0m\u001b[1;33m\u001b[0m\u001b[0m\n\u001b[0;32m     31\u001b[0m     \u001b[1;31m# (ultrastiff) no conviene utilizar métodos explícitos.\u001b[0m\u001b[1;33m\u001b[0m\u001b[1;33m\u001b[0m\u001b[0m\n\u001b[1;32m---> 32\u001b[1;33m     \u001b[0msol\u001b[0m \u001b[1;33m=\u001b[0m \u001b[0msolve_ivp\u001b[0m\u001b[1;33m(\u001b[0m\u001b[0madsorcion_hidrogeno\u001b[0m\u001b[1;33m,\u001b[0m \u001b[1;33m(\u001b[0m\u001b[0mt_0\u001b[0m\u001b[1;33m,\u001b[0m \u001b[0mt_f\u001b[0m\u001b[1;33m)\u001b[0m\u001b[1;33m,\u001b[0m \u001b[1;33m[\u001b[0m\u001b[0mm_ti\u001b[0m\u001b[1;33m,\u001b[0m \u001b[0mT_i\u001b[0m\u001b[1;33m]\u001b[0m\u001b[1;33m,\u001b[0m \u001b[0margs\u001b[0m\u001b[1;33m=\u001b[0m\u001b[0margs\u001b[0m\u001b[1;33m,\u001b[0m \u001b[0mt_eval\u001b[0m\u001b[1;33m=\u001b[0m \u001b[0mt_range\u001b[0m\u001b[1;33m,\u001b[0m \u001b[0mmethod\u001b[0m \u001b[1;33m=\u001b[0m \u001b[1;34m'BDF'\u001b[0m\u001b[1;33m)\u001b[0m\u001b[1;33m\u001b[0m\u001b[1;33m\u001b[0m\u001b[0m\n\u001b[0m\u001b[0;32m     33\u001b[0m \u001b[1;33m\u001b[0m\u001b[0m\n\u001b[0;32m     34\u001b[0m     \u001b[1;31m# Desempacar la sol.clear\u001b[0m\u001b[1;33m\u001b[0m\u001b[1;33m\u001b[0m\u001b[0m\n",
      "\u001b[1;31mNameError\u001b[0m: name 'm_ti' is not defined"
     ]
    }
   ],
   "source": [
    "t_result, m_t_result, T_result = resolver_modelo(0)"
   ]
  },
  {
   "cell_type": "markdown",
   "metadata": {},
   "source": [
    "#### Gráfico Temperatura\n"
   ]
  },
  {
   "cell_type": "code",
   "execution_count": null,
   "metadata": {},
   "outputs": [],
   "source": [
    "# Temperatura\n",
    "plt.plot(t_result, T_result, label='mod')\n",
    "### Validación experimental: ocupando datos previamente cargados y definidos para carga\n",
    "\n",
    "# Graficamos los experimentos\n",
    "#plt.plot(t_exp_T_c, T_exp_c, label='exp', marker ='o', ls='', color='k')\n",
    "\n",
    "# Estética\n",
    "plt.xlabel('t [s]', size = 12)\n",
    "plt.ylabel('T [K]', size = 12)\n",
    "\n",
    "# Visualización\n",
    "plt.legend()\n",
    "plt.show()"
   ]
  },
  {
   "cell_type": "markdown",
   "metadata": {},
   "source": [
    "#### Cálculo Presión"
   ]
  },
  {
   "cell_type": "code",
   "execution_count": null,
   "metadata": {},
   "outputs": [],
   "source": [
    "# Como calculamos P, m_a y m_g?\n",
    "p = []\n",
    "\n",
    "for i in range(len(T_result)):\n",
    "    # Se encuentra el valor de la presión mediante la función fsolve\n",
    "    p_inst = fsolve(p_eqn, p_i, args = (n_0, R, T_result[i], alpha, beta, b, p_0, M_H2, m_s, V, epsilon_b, m_t[i]))\n",
    "    # Se extrae el valor en el indice 0 porque p_inst es de la forma [float]\n",
    "    # Se divide en 1e6 para pasar de Pa a MPa\n",
    "    p_inst = p_inst[0]\n",
    "    \n",
    "    if i % 100000 == 0:\n",
    "        print(f'En el indice [{i}] la presión es: {p_inst} Pa')\n",
    "\n",
    "    p.append(p_inst)\n",
    "\n",
    "p = np.array(p)\n",
    "print(p[-1])"
   ]
  },
  {
   "cell_type": "markdown",
   "metadata": {},
   "source": [
    "#### Gráfico Presión"
   ]
  },
  {
   "cell_type": "code",
   "execution_count": null,
   "metadata": {
    "scrolled": false
   },
   "outputs": [],
   "source": [
    "# Presión\n",
    "plt.plot(t_result, p/1e6, label='mod')\n",
    "\n",
    "\n",
    "### Validación experimental: ocupando datos previamente cargados y definidos para carga\n",
    "\n",
    "# Graficamos los experimentos\n",
    "#plt.plot(t_exp_p_c, p_exp_c, label='exp', marker ='o', ls='', color='k')\n",
    "\n",
    "# Estética\n",
    "plt.xlabel('t [s]', size = 12)\n",
    "plt.ylabel('p [MPa]', size = 12)\n",
    "\n",
    "# Visualización\n",
    "plt.legend()\n",
    "plt.show()\n"
   ]
  },
  {
   "cell_type": "markdown",
   "metadata": {},
   "source": [
    "#### Masa fase adsorbida y fase gaseosa"
   ]
  },
  {
   "cell_type": "code",
   "execution_count": null,
   "metadata": {},
   "outputs": [],
   "source": [
    "# Calcular los valores de masa y gas\n",
    "n_a = n_0*np.exp(-((R*T_result)/(alpha+beta*T_result))**b * np.log(p_0/p_i)**b)\n",
    "m_a = n_a*M_H2*m_s\n",
    "m_a = np.array(m_a)\n",
    "m_g = M_H2*p_i*(V*epsilon_b)/(R*T_result) \n",
    "\n",
    "# Graficar las líneas\n",
    "plt.figure(figsize=[5, 5])\n",
    "plt.plot(t_result, m_t_result, label='m_t')\n",
    "plt.plot(t_result, m_a, label='m_a')\n",
    "plt.plot(t_result, m_g, label='m_g')\n",
    "plt.plot(t_result, m_g + m_a, \"r--\", label='m_g + m_a')\n",
    "\n",
    "# Agregar leyendas al gráfico\n",
    "plt.legend()\n",
    "\n",
    "# Agrandar el tamaño de los números en el gráfico\n",
    "plt.tick_params(labelsize=12)\n",
    "plt.xlabel('t [s]', size=12)\n",
    "plt.ylabel('m [kg]', size=12)\n",
    "\n",
    "# Mostrar el gráfico\n",
    "plt.show()\n"
   ]
  },
  {
   "cell_type": "code",
   "execution_count": null,
   "metadata": {},
   "outputs": [],
   "source": []
  }
 ],
 "metadata": {
  "kernelspec": {
   "display_name": "Python 3 (ipykernel)",
   "language": "python",
   "name": "python3"
  },
  "language_info": {
   "codemirror_mode": {
    "name": "ipython",
    "version": 3
   },
   "file_extension": ".py",
   "mimetype": "text/x-python",
   "name": "python",
   "nbconvert_exporter": "python",
   "pygments_lexer": "ipython3",
   "version": "3.9.13"
  },
  "vscode": {
   "interpreter": {
    "hash": "620eb4ed2007402b8563cffe8a138559637e3ee9804a716022abebb97e63d62a"
   }
  }
 },
 "nbformat": 4,
 "nbformat_minor": 2
}
